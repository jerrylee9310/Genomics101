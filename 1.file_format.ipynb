{
 "cells": [
  {
   "cell_type": "markdown",
   "metadata": {},
   "source": [
    "# 1. File format\n",
    "\n",
    "In this section, we'll going to introduce some genomic file formats and programs which can handle such files."
   ]
  },
  {
   "cell_type": "markdown",
   "metadata": {},
   "source": [
    "## .vcf and bcftools\n",
    "\n",
    "[bcftools](https://samtools.github.io/bcftools/)"
   ]
  },
  {
   "cell_type": "code",
   "execution_count": null,
   "metadata": {},
   "outputs": [],
   "source": []
  }
 ],
 "metadata": {
  "language_info": {
   "name": "python"
  },
  "orig_nbformat": 4
 },
 "nbformat": 4,
 "nbformat_minor": 2
}
