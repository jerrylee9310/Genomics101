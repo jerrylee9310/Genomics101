{
 "cells": [
  {
   "cell_type": "markdown",
   "metadata": {},
   "source": [
    "# File format\n",
    "\n",
    "In this section, we'll going to introduce some genomic file formats and programs which can handle such files."
   ]
  },
  {
   "cell_type": "code",
   "execution_count": 1,
   "metadata": {},
   "outputs": [],
   "source": [
    "import pandas as pd\n",
    "from basic_tools import *"
   ]
  },
  {
   "cell_type": "markdown",
   "metadata": {},
   "source": [
    "## 1. `.vcf` and `pysam`\n",
    "\n",
    "[pysam](https://pysam.readthedocs.io/en/latest/index.html)"
   ]
  },
  {
   "cell_type": "code",
   "execution_count": 21,
   "metadata": {},
   "outputs": [
    {
     "name": "stderr",
     "output_type": "stream",
     "text": [
      "[E::idx_find_and_load] Could not retrieve index file for '../data/ALL.chr22.phase1_release_v3.20101123.snps_indels_svs.genotypes.vcf.gz'\n"
     ]
    }
   ],
   "source": [
    "from pysam import VariantFile\n",
    "\n",
    "vcf_in = VariantFile(vcf_fn)"
   ]
  },
  {
   "cell_type": "markdown",
   "metadata": {},
   "source": [
    "The header attribute `VariantHeader` provides access information stored in the vcf header."
   ]
  },
  {
   "cell_type": "code",
   "execution_count": 22,
   "metadata": {},
   "outputs": [
    {
     "name": "stdout",
     "output_type": "stream",
     "text": [
      "##fileformat=VCFv4.1\n",
      "##FILTER=<ID=PASS,Description=\"All filters passed\">\n",
      "##INFO=<ID=LDAF,Number=1,Type=Float,Description=\"MLE Allele Frequency Accounting for LD\">\n",
      "##INFO=<ID=AVGPOST,Number=1,Type=Float,Description=\"Average posterior probability from MaCH/Thunder\">\n",
      "##INFO=<ID=RSQ,Number=1,Type=Float,Description=\"Genotype imputation quality from MaCH/Thunder\">\n",
      "##INFO=<ID=ERATE,Number=1,Type=Float,Description=\"Per-marker Mutation rate from MaCH/Thunder\">\n",
      "##INFO=<ID=THETA,Number=1,Type=Float,Description=\"Per-marker Transition rate from MaCH/Thunder\">\n",
      "##INFO=<ID=CIEND,Number=2,Type=Integer,Description=\"Confidence interval around END for imprecise variants\">\n",
      "##INFO=<ID=CIPOS,Number=2,Type=Integer,Description=\"Confidence interval around POS for imprecise variants\">\n",
      "##INFO=<ID=END,Number=1,Type=Integer,Description=\"End position of the variant described in this record\">\n",
      "##INFO=<ID=HOMLEN,Number=.,Type=Integer,Description=\"Length of base pair identical micro-homology at event breakpoints\">\n",
      "##INFO=<ID=HOMSEQ,Number=.,Type=String,Description=\"Sequence of base pair identical micro-homology at event breakpoints\">\n",
      "##INFO=<ID=SVLEN,Number=1,Type=Integer,Description=\"Difference in length between REF and ALT alleles\">\n",
      "##INFO=<ID=SVTYPE,Number=1,Type=String,Description=\"Type of structural variant\">\n",
      "##INFO=<ID=AC,Number=.,Type=Integer,Description=\"Alternate Allele Count\">\n",
      "##INFO=<ID=AN,Number=1,Type=Integer,Description=\"Total Allele Count\">\n",
      "##ALT=<ID=DEL,Description=\"Deletion\">\n",
      "##FORMAT=<ID=GT,Number=1,Type=String,Description=\"Genotype\">\n",
      "##FORMAT=<ID=DS,Number=1,Type=Float,Description=\"Genotype dosage from MaCH/Thunder\">\n",
      "##FORMAT=<ID=GL,Number=.,Type=Float,Description=\"Genotype Likelihoods\">\n",
      "##INFO=<ID=AA,Number=1,Type=String,Description=\"Ancestral Allele, ftp://ftp.1000genomes.ebi.ac.uk/vol1/ftp/pilot_data/technical/reference/ancestral_alignments/README\">\n",
      "##INFO=<ID=AF,Number=1,Type=Float,Description=\"Global Allele Frequency based on AC/AN\">\n",
      "##INFO=<ID=AMR_AF,Number=1,Type=Float,Description=\"Allele Frequency for samples from AMR based on AC/AN\">\n",
      "##INFO=<ID=ASN_AF,Number=1,Type=Float,Description=\"Allele Frequency for samples from ASN based on AC/AN\">\n",
      "##INFO=<ID=AFR_AF,Number=1,Type=Float,Description=\"Allele Frequency for samples from AFR based on AC/AN\">\n",
      "##INFO=<ID=EUR_AF,Number=1,Type=Float,Description=\"Allele Frequency for samples from EUR based on AC/AN\">\n",
      "##INFO=<ID=VT,Number=1,Type=String,Description=\"indicates what type of variant the line represents\">\n",
      "##INFO=<ID=SNPSOURCE,Number=.,Type=String,Description=\"indicates if a snp was called when analysing the low coverage or exome alignment data\">\n",
      "##reference=GRCh37\n",
      "#CHROM\tPOS\tID\tREF\tALT\tQUAL\tFILTER\tINFO\tFORMAT\tHG00096\tHG00097\tHG00099\tHG00100\tHG00101\tHG00102\tHG00103\tHG00104\tHG00106\tHG00108\tHG00109\tHG00110\tHG00111\tHG00112\tHG00113\tHG00114\tHG00116\tHG00117\tHG00118\tHG00119\tHG00120\tHG00121\tHG00122\tHG00123\tHG00124\tHG00125\tHG00126\tHG00127\tHG00128\tHG00129\tHG00130\tHG00131\tHG00133\tHG00134\tHG00135\tHG00136\tHG00137\tHG00138\tHG00139\tHG00140\tHG00141\tHG00142\tHG00143\tHG00146\tHG00148\tHG00149\tHG00150\tHG00151\tHG00152\tHG00154\tHG00155\tHG00156\tHG00158\tHG00159\tHG00160\tHG00171\tHG00173\tHG00174\tHG00176\tHG00177\tHG00178\tHG00179\tHG00180\tHG00182\tHG00183\tHG00185\tHG00186\tHG00187\tHG00188\tHG00189\tHG00190\tHG00231\tHG00232\tHG00233\tHG00234\tHG00235\tHG00236\tHG00237\tHG00238\tHG00239\tHG00240\tHG00242\tHG00243\tHG00244\tHG00245\tHG00246\tHG00247\tHG00249\tHG00250\tHG00251\tHG00252\tHG00253\tHG00254\tHG00255\tHG00256\tHG00257\tHG00258\tHG00259\tHG00260\tHG00261\tHG00262\tHG00263\tHG00264\tHG00265\tHG00266\tHG00267\tHG00268\tHG00269\tHG00270\tHG00271\tHG00272\tHG00273\tHG00274\tHG00275\tHG00276\tHG00277\tHG00278\tHG00280\tHG00281\tHG00282\tHG00284\tHG00285\tHG00306\tHG00309\tHG00310\tHG00311\tHG00312\tHG00313\tHG00315\tHG00318\tHG00319\tHG00320\tHG00321\tHG00323\tHG00324\tHG00325\tHG00326\tHG00327\tHG00328\tHG00329\tHG00330\tHG00331\tHG00332\tHG00334\tHG00335\tHG00336\tHG00337\tHG00338\tHG00339\tHG00341\tHG00342\tHG00343\tHG00344\tHG00345\tHG00346\tHG00349\tHG00350\tHG00351\tHG00353\tHG00355\tHG00356\tHG00357\tHG00358\tHG00359\tHG00360\tHG00361\tHG00362\tHG00364\tHG00366\tHG00367\tHG00369\tHG00372\tHG00373\tHG00375\tHG00376\tHG00377\tHG00378\tHG00381\tHG00382\tHG00383\tHG00384\tHG00403\tHG00404\tHG00406\tHG00407\tHG00418\tHG00419\tHG00421\tHG00422\tHG00427\tHG00428\tHG00436\tHG00437\tHG00442\tHG00443\tHG00445\tHG00446\tHG00448\tHG00449\tHG00451\tHG00452\tHG00457\tHG00458\tHG00463\tHG00464\tHG00472\tHG00473\tHG00475\tHG00476\tHG00478\tHG00479\tHG00500\tHG00501\tHG00512\tHG00513\tHG00524\tHG00525\tHG00530\tHG00531\tHG00533\tHG00534\tHG00536\tHG00537\tHG00542\tHG00543\tHG00553\tHG00554\tHG00556\tHG00557\tHG00559\tHG00560\tHG00565\tHG00566\tHG00577\tHG00578\tHG00580\tHG00581\tHG00583\tHG00584\tHG00589\tHG00590\tHG00592\tHG00593\tHG00595\tHG00596\tHG00607\tHG00608\tHG00610\tHG00611\tHG00613\tHG00614\tHG00619\tHG00620\tHG00625\tHG00626\tHG00628\tHG00629\tHG00634\tHG00635\tHG00637\tHG00638\tHG00640\tHG00641\tHG00650\tHG00651\tHG00653\tHG00654\tHG00656\tHG00657\tHG00662\tHG00663\tHG00671\tHG00672\tHG00683\tHG00684\tHG00689\tHG00690\tHG00692\tHG00693\tHG00698\tHG00699\tHG00701\tHG00702\tHG00704\tHG00705\tHG00707\tHG00708\tHG00731\tHG00732\tHG00734\tHG00736\tHG00737\tHG00740\tHG01047\tHG01048\tHG01051\tHG01052\tHG01055\tHG01060\tHG01061\tHG01066\tHG01067\tHG01069\tHG01070\tHG01072\tHG01073\tHG01075\tHG01079\tHG01080\tHG01082\tHG01083\tHG01085\tHG01095\tHG01097\tHG01098\tHG01101\tHG01102\tHG01104\tHG01105\tHG01107\tHG01108\tHG01112\tHG01113\tHG01124\tHG01125\tHG01133\tHG01134\tHG01136\tHG01137\tHG01140\tHG01148\tHG01149\tHG01167\tHG01168\tHG01170\tHG01171\tHG01173\tHG01174\tHG01176\tHG01183\tHG01187\tHG01188\tHG01190\tHG01191\tHG01197\tHG01198\tHG01204\tHG01250\tHG01251\tHG01257\tHG01259\tHG01271\tHG01272\tHG01274\tHG01275\tHG01277\tHG01278\tHG01334\tHG01342\tHG01344\tHG01345\tHG01350\tHG01351\tHG01353\tHG01354\tHG01356\tHG01357\tHG01359\tHG01360\tHG01365\tHG01366\tHG01374\tHG01375\tHG01377\tHG01378\tHG01383\tHG01384\tHG01389\tHG01390\tHG01437\tHG01440\tHG01441\tHG01455\tHG01456\tHG01461\tHG01462\tHG01465\tHG01488\tHG01489\tHG01491\tHG01492\tHG01494\tHG01495\tHG01497\tHG01498\tHG01515\tHG01516\tHG01518\tHG01519\tHG01521\tHG01522\tHG01550\tHG01551\tHG01617\tHG01618\tHG01619\tHG01620\tHG01623\tHG01624\tHG01625\tHG01626\tNA06984\tNA06986\tNA06989\tNA06994\tNA07000\tNA07037\tNA07048\tNA07051\tNA07056\tNA07347\tNA07357\tNA10847\tNA10851\tNA11829\tNA11830\tNA11831\tNA11843\tNA11892\tNA11893\tNA11894\tNA11919\tNA11920\tNA11930\tNA11931\tNA11932\tNA11933\tNA11992\tNA11993\tNA11994\tNA11995\tNA12003\tNA12004\tNA12006\tNA12043\tNA12044\tNA12045\tNA12046\tNA12058\tNA12144\tNA12154\tNA12155\tNA12249\tNA12272\tNA12273\tNA12275\tNA12282\tNA12283\tNA12286\tNA12287\tNA12340\tNA12341\tNA12342\tNA12347\tNA12348\tNA12383\tNA12399\tNA12400\tNA12413\tNA12489\tNA12546\tNA12716\tNA12717\tNA12718\tNA12748\tNA12749\tNA12750\tNA12751\tNA12761\tNA12763\tNA12775\tNA12777\tNA12778\tNA12812\tNA12814\tNA12815\tNA12827\tNA12829\tNA12830\tNA12842\tNA12843\tNA12872\tNA12873\tNA12874\tNA12889\tNA12890\tNA18486\tNA18487\tNA18489\tNA18498\tNA18499\tNA18501\tNA18502\tNA18504\tNA18505\tNA18507\tNA18508\tNA18510\tNA18511\tNA18516\tNA18517\tNA18519\tNA18520\tNA18522\tNA18523\tNA18525\tNA18526\tNA18527\tNA18528\tNA18530\tNA18532\tNA18534\tNA18535\tNA18536\tNA18537\tNA18538\tNA18539\tNA18541\tNA18542\tNA18543\tNA18544\tNA18545\tNA18546\tNA18547\tNA18548\tNA18549\tNA18550\tNA18552\tNA18553\tNA18555\tNA18557\tNA18558\tNA18559\tNA18560\tNA18561\tNA18562\tNA18563\tNA18564\tNA18565\tNA18566\tNA18567\tNA18570\tNA18571\tNA18572\tNA18573\tNA18574\tNA18576\tNA18577\tNA18579\tNA18582\tNA18592\tNA18593\tNA18595\tNA18596\tNA18597\tNA18599\tNA18602\tNA18603\tNA18605\tNA18606\tNA18608\tNA18609\tNA18610\tNA18611\tNA18612\tNA18613\tNA18614\tNA18615\tNA18616\tNA18617\tNA18618\tNA18619\tNA18620\tNA18621\tNA18622\tNA18623\tNA18624\tNA18626\tNA18627\tNA18628\tNA18630\tNA18631\tNA18632\tNA18633\tNA18634\tNA18635\tNA18636\tNA18637\tNA18638\tNA18639\tNA18640\tNA18641\tNA18642\tNA18643\tNA18645\tNA18647\tNA18740\tNA18745\tNA18747\tNA18748\tNA18749\tNA18757\tNA18853\tNA18856\tNA18858\tNA18861\tNA18867\tNA18868\tNA18870\tNA18871\tNA18873\tNA18874\tNA18907\tNA18908\tNA18909\tNA18910\tNA18912\tNA18916\tNA18917\tNA18923\tNA18924\tNA18933\tNA18934\tNA18939\tNA18940\tNA18941\tNA18942\tNA18943\tNA18944\tNA18945\tNA18946\tNA18947\tNA18948\tNA18949\tNA18950\tNA18951\tNA18952\tNA18953\tNA18954\tNA18956\tNA18957\tNA18959\tNA18960\tNA18961\tNA18962\tNA18963\tNA18964\tNA18965\tNA18966\tNA18968\tNA18971\tNA18973\tNA18974\tNA18975\tNA18976\tNA18977\tNA18978\tNA18980\tNA18981\tNA18982\tNA18983\tNA18984\tNA18985\tNA18986\tNA18987\tNA18988\tNA18989\tNA18990\tNA18992\tNA18994\tNA18995\tNA18998\tNA18999\tNA19000\tNA19002\tNA19003\tNA19004\tNA19005\tNA19007\tNA19009\tNA19010\tNA19012\tNA19020\tNA19028\tNA19035\tNA19036\tNA19038\tNA19041\tNA19044\tNA19046\tNA19054\tNA19055\tNA19056\tNA19057\tNA19058\tNA19059\tNA19060\tNA19062\tNA19063\tNA19064\tNA19065\tNA19066\tNA19067\tNA19068\tNA19070\tNA19072\tNA19074\tNA19075\tNA19076\tNA19077\tNA19078\tNA19079\tNA19080\tNA19081\tNA19082\tNA19083\tNA19084\tNA19085\tNA19087\tNA19088\tNA19093\tNA19095\tNA19096\tNA19098\tNA19099\tNA19102\tNA19107\tNA19108\tNA19113\tNA19114\tNA19116\tNA19117\tNA19118\tNA19119\tNA19121\tNA19129\tNA19130\tNA19131\tNA19137\tNA19138\tNA19146\tNA19147\tNA19149\tNA19150\tNA19152\tNA19160\tNA19171\tNA19172\tNA19175\tNA19185\tNA19189\tNA19190\tNA19197\tNA19198\tNA19200\tNA19204\tNA19207\tNA19209\tNA19213\tNA19222\tNA19223\tNA19225\tNA19235\tNA19236\tNA19247\tNA19248\tNA19256\tNA19257\tNA19307\tNA19308\tNA19309\tNA19310\tNA19311\tNA19312\tNA19313\tNA19315\tNA19316\tNA19317\tNA19318\tNA19319\tNA19321\tNA19324\tNA19327\tNA19328\tNA19331\tNA19332\tNA19334\tNA19338\tNA19346\tNA19347\tNA19350\tNA19351\tNA19352\tNA19355\tNA19359\tNA19360\tNA19371\tNA19372\tNA19373\tNA19374\tNA19375\tNA19376\tNA19377\tNA19379\tNA19380\tNA19381\tNA19382\tNA19383\tNA19384\tNA19385\tNA19390\tNA19391\tNA19393\tNA19394\tNA19395\tNA19396\tNA19397\tNA19398\tNA19399\tNA19401\tNA19403\tNA19404\tNA19428\tNA19429\tNA19430\tNA19431\tNA19434\tNA19435\tNA19436\tNA19437\tNA19438\tNA19439\tNA19440\tNA19443\tNA19444\tNA19445\tNA19446\tNA19448\tNA19449\tNA19451\tNA19452\tNA19453\tNA19455\tNA19456\tNA19457\tNA19461\tNA19462\tNA19463\tNA19466\tNA19467\tNA19468\tNA19469\tNA19470\tNA19471\tNA19472\tNA19473\tNA19474\tNA19625\tNA19648\tNA19651\tNA19652\tNA19654\tNA19655\tNA19657\tNA19660\tNA19661\tNA19663\tNA19664\tNA19672\tNA19675\tNA19676\tNA19678\tNA19679\tNA19681\tNA19682\tNA19684\tNA19685\tNA19700\tNA19701\tNA19703\tNA19704\tNA19707\tNA19711\tNA19712\tNA19713\tNA19716\tNA19717\tNA19719\tNA19720\tNA19722\tNA19723\tNA19725\tNA19726\tNA19728\tNA19729\tNA19731\tNA19732\tNA19734\tNA19735\tNA19737\tNA19738\tNA19740\tNA19741\tNA19746\tNA19747\tNA19749\tNA19750\tNA19752\tNA19753\tNA19755\tNA19756\tNA19758\tNA19759\tNA19761\tNA19762\tNA19764\tNA19770\tNA19771\tNA19773\tNA19774\tNA19776\tNA19777\tNA19779\tNA19780\tNA19782\tNA19783\tNA19785\tNA19786\tNA19788\tNA19789\tNA19794\tNA19795\tNA19818\tNA19819\tNA19834\tNA19835\tNA19900\tNA19901\tNA19904\tNA19908\tNA19909\tNA19914\tNA19916\tNA19917\tNA19920\tNA19921\tNA19922\tNA19923\tNA19982\tNA19984\tNA19985\tNA20126\tNA20127\tNA20276\tNA20278\tNA20281\tNA20282\tNA20287\tNA20289\tNA20291\tNA20294\tNA20296\tNA20298\tNA20299\tNA20314\tNA20317\tNA20322\tNA20332\tNA20334\tNA20336\tNA20339\tNA20340\tNA20341\tNA20342\tNA20344\tNA20346\tNA20348\tNA20351\tNA20356\tNA20357\tNA20359\tNA20363\tNA20412\tNA20414\tNA20502\tNA20503\tNA20504\tNA20505\tNA20506\tNA20507\tNA20508\tNA20509\tNA20510\tNA20512\tNA20513\tNA20515\tNA20516\tNA20517\tNA20518\tNA20519\tNA20520\tNA20521\tNA20522\tNA20524\tNA20525\tNA20527\tNA20528\tNA20529\tNA20530\tNA20531\tNA20532\tNA20533\tNA20534\tNA20535\tNA20536\tNA20537\tNA20538\tNA20539\tNA20540\tNA20541\tNA20542\tNA20543\tNA20544\tNA20581\tNA20582\tNA20585\tNA20586\tNA20588\tNA20589\tNA20752\tNA20753\tNA20754\tNA20755\tNA20756\tNA20757\tNA20758\tNA20759\tNA20760\tNA20761\tNA20765\tNA20766\tNA20768\tNA20769\tNA20770\tNA20771\tNA20772\tNA20773\tNA20774\tNA20775\tNA20778\tNA20783\tNA20785\tNA20786\tNA20787\tNA20790\tNA20792\tNA20795\tNA20796\tNA20797\tNA20798\tNA20799\tNA20800\tNA20801\tNA20802\tNA20803\tNA20804\tNA20805\tNA20806\tNA20807\tNA20808\tNA20809\tNA20810\tNA20811\tNA20812\tNA20813\tNA20814\tNA20815\tNA20816\tNA20818\tNA20819\tNA20826\tNA20828\n",
      "\n"
     ]
    }
   ],
   "source": [
    "# vcf file header\n",
    "print(vcf_in.header)"
   ]
  },
  {
   "cell_type": "markdown",
   "metadata": {},
   "source": [
    "Individual contents such as _contigs, info fields, samples, formats_ can be retrieved as attributes from header:"
   ]
  },
  {
   "cell_type": "code",
   "execution_count": 23,
   "metadata": {},
   "outputs": [
    {
     "name": "stdout",
     "output_type": "stream",
     "text": [
      "<pysam.libcbcf.VariantHeaderContigs object at 0x7fec609d3bb0>\n",
      "[]\n",
      "['PASS']\n",
      "['LDAF', 'AVGPOST', 'RSQ', 'ERATE', 'THETA', 'CIEND', 'CIPOS', 'END', 'HOMLEN', 'HOMSEQ', 'SVLEN', 'SVTYPE', 'AC', 'AN', 'AA', 'AF', 'AMR_AF', 'ASN_AF', 'AFR_AF', 'EUR_AF', 'VT', 'SNPSOURCE']\n",
      "['HG00096', 'HG00097', 'HG00099', 'HG00100', 'HG00101', 'HG00102', 'HG00103', 'HG00104', 'HG00106', 'HG00108', 'HG00109', 'HG00110', 'HG00111', 'HG00112', 'HG00113', 'HG00114', 'HG00116', 'HG00117', 'HG00118', 'HG00119', 'HG00120', 'HG00121', 'HG00122', 'HG00123', 'HG00124', 'HG00125', 'HG00126', 'HG00127', 'HG00128', 'HG00129', 'HG00130', 'HG00131', 'HG00133', 'HG00134', 'HG00135', 'HG00136', 'HG00137', 'HG00138', 'HG00139', 'HG00140', 'HG00141', 'HG00142', 'HG00143', 'HG00146', 'HG00148', 'HG00149', 'HG00150', 'HG00151', 'HG00152', 'HG00154', 'HG00155', 'HG00156', 'HG00158', 'HG00159', 'HG00160', 'HG00171', 'HG00173', 'HG00174', 'HG00176', 'HG00177', 'HG00178', 'HG00179', 'HG00180', 'HG00182', 'HG00183', 'HG00185', 'HG00186', 'HG00187', 'HG00188', 'HG00189', 'HG00190', 'HG00231', 'HG00232', 'HG00233', 'HG00234', 'HG00235', 'HG00236', 'HG00237', 'HG00238', 'HG00239', 'HG00240', 'HG00242', 'HG00243', 'HG00244', 'HG00245', 'HG00246', 'HG00247', 'HG00249', 'HG00250', 'HG00251', 'HG00252', 'HG00253', 'HG00254', 'HG00255', 'HG00256', 'HG00257', 'HG00258', 'HG00259', 'HG00260', 'HG00261', 'HG00262', 'HG00263', 'HG00264', 'HG00265', 'HG00266', 'HG00267', 'HG00268', 'HG00269', 'HG00270', 'HG00271', 'HG00272', 'HG00273', 'HG00274', 'HG00275', 'HG00276', 'HG00277', 'HG00278', 'HG00280', 'HG00281', 'HG00282', 'HG00284', 'HG00285', 'HG00306', 'HG00309', 'HG00310', 'HG00311', 'HG00312', 'HG00313', 'HG00315', 'HG00318', 'HG00319', 'HG00320', 'HG00321', 'HG00323', 'HG00324', 'HG00325', 'HG00326', 'HG00327', 'HG00328', 'HG00329', 'HG00330', 'HG00331', 'HG00332', 'HG00334', 'HG00335', 'HG00336', 'HG00337', 'HG00338', 'HG00339', 'HG00341', 'HG00342', 'HG00343', 'HG00344', 'HG00345', 'HG00346', 'HG00349', 'HG00350', 'HG00351', 'HG00353', 'HG00355', 'HG00356', 'HG00357', 'HG00358', 'HG00359', 'HG00360', 'HG00361', 'HG00362', 'HG00364', 'HG00366', 'HG00367', 'HG00369', 'HG00372', 'HG00373', 'HG00375', 'HG00376', 'HG00377', 'HG00378', 'HG00381', 'HG00382', 'HG00383', 'HG00384', 'HG00403', 'HG00404', 'HG00406', 'HG00407', 'HG00418', 'HG00419', 'HG00421', 'HG00422', 'HG00427', 'HG00428', 'HG00436', 'HG00437', 'HG00442', 'HG00443', 'HG00445', 'HG00446', 'HG00448', 'HG00449', 'HG00451', 'HG00452', 'HG00457', 'HG00458', 'HG00463', 'HG00464', 'HG00472', 'HG00473', 'HG00475', 'HG00476', 'HG00478', 'HG00479', 'HG00500', 'HG00501', 'HG00512', 'HG00513', 'HG00524', 'HG00525', 'HG00530', 'HG00531', 'HG00533', 'HG00534', 'HG00536', 'HG00537', 'HG00542', 'HG00543', 'HG00553', 'HG00554', 'HG00556', 'HG00557', 'HG00559', 'HG00560', 'HG00565', 'HG00566', 'HG00577', 'HG00578', 'HG00580', 'HG00581', 'HG00583', 'HG00584', 'HG00589', 'HG00590', 'HG00592', 'HG00593', 'HG00595', 'HG00596', 'HG00607', 'HG00608', 'HG00610', 'HG00611', 'HG00613', 'HG00614', 'HG00619', 'HG00620', 'HG00625', 'HG00626', 'HG00628', 'HG00629', 'HG00634', 'HG00635', 'HG00637', 'HG00638', 'HG00640', 'HG00641', 'HG00650', 'HG00651', 'HG00653', 'HG00654', 'HG00656', 'HG00657', 'HG00662', 'HG00663', 'HG00671', 'HG00672', 'HG00683', 'HG00684', 'HG00689', 'HG00690', 'HG00692', 'HG00693', 'HG00698', 'HG00699', 'HG00701', 'HG00702', 'HG00704', 'HG00705', 'HG00707', 'HG00708', 'HG00731', 'HG00732', 'HG00734', 'HG00736', 'HG00737', 'HG00740', 'HG01047', 'HG01048', 'HG01051', 'HG01052', 'HG01055', 'HG01060', 'HG01061', 'HG01066', 'HG01067', 'HG01069', 'HG01070', 'HG01072', 'HG01073', 'HG01075', 'HG01079', 'HG01080', 'HG01082', 'HG01083', 'HG01085', 'HG01095', 'HG01097', 'HG01098', 'HG01101', 'HG01102', 'HG01104', 'HG01105', 'HG01107', 'HG01108', 'HG01112', 'HG01113', 'HG01124', 'HG01125', 'HG01133', 'HG01134', 'HG01136', 'HG01137', 'HG01140', 'HG01148', 'HG01149', 'HG01167', 'HG01168', 'HG01170', 'HG01171', 'HG01173', 'HG01174', 'HG01176', 'HG01183', 'HG01187', 'HG01188', 'HG01190', 'HG01191', 'HG01197', 'HG01198', 'HG01204', 'HG01250', 'HG01251', 'HG01257', 'HG01259', 'HG01271', 'HG01272', 'HG01274', 'HG01275', 'HG01277', 'HG01278', 'HG01334', 'HG01342', 'HG01344', 'HG01345', 'HG01350', 'HG01351', 'HG01353', 'HG01354', 'HG01356', 'HG01357', 'HG01359', 'HG01360', 'HG01365', 'HG01366', 'HG01374', 'HG01375', 'HG01377', 'HG01378', 'HG01383', 'HG01384', 'HG01389', 'HG01390', 'HG01437', 'HG01440', 'HG01441', 'HG01455', 'HG01456', 'HG01461', 'HG01462', 'HG01465', 'HG01488', 'HG01489', 'HG01491', 'HG01492', 'HG01494', 'HG01495', 'HG01497', 'HG01498', 'HG01515', 'HG01516', 'HG01518', 'HG01519', 'HG01521', 'HG01522', 'HG01550', 'HG01551', 'HG01617', 'HG01618', 'HG01619', 'HG01620', 'HG01623', 'HG01624', 'HG01625', 'HG01626', 'NA06984', 'NA06986', 'NA06989', 'NA06994', 'NA07000', 'NA07037', 'NA07048', 'NA07051', 'NA07056', 'NA07347', 'NA07357', 'NA10847', 'NA10851', 'NA11829', 'NA11830', 'NA11831', 'NA11843', 'NA11892', 'NA11893', 'NA11894', 'NA11919', 'NA11920', 'NA11930', 'NA11931', 'NA11932', 'NA11933', 'NA11992', 'NA11993', 'NA11994', 'NA11995', 'NA12003', 'NA12004', 'NA12006', 'NA12043', 'NA12044', 'NA12045', 'NA12046', 'NA12058', 'NA12144', 'NA12154', 'NA12155', 'NA12249', 'NA12272', 'NA12273', 'NA12275', 'NA12282', 'NA12283', 'NA12286', 'NA12287', 'NA12340', 'NA12341', 'NA12342', 'NA12347', 'NA12348', 'NA12383', 'NA12399', 'NA12400', 'NA12413', 'NA12489', 'NA12546', 'NA12716', 'NA12717', 'NA12718', 'NA12748', 'NA12749', 'NA12750', 'NA12751', 'NA12761', 'NA12763', 'NA12775', 'NA12777', 'NA12778', 'NA12812', 'NA12814', 'NA12815', 'NA12827', 'NA12829', 'NA12830', 'NA12842', 'NA12843', 'NA12872', 'NA12873', 'NA12874', 'NA12889', 'NA12890', 'NA18486', 'NA18487', 'NA18489', 'NA18498', 'NA18499', 'NA18501', 'NA18502', 'NA18504', 'NA18505', 'NA18507', 'NA18508', 'NA18510', 'NA18511', 'NA18516', 'NA18517', 'NA18519', 'NA18520', 'NA18522', 'NA18523', 'NA18525', 'NA18526', 'NA18527', 'NA18528', 'NA18530', 'NA18532', 'NA18534', 'NA18535', 'NA18536', 'NA18537', 'NA18538', 'NA18539', 'NA18541', 'NA18542', 'NA18543', 'NA18544', 'NA18545', 'NA18546', 'NA18547', 'NA18548', 'NA18549', 'NA18550', 'NA18552', 'NA18553', 'NA18555', 'NA18557', 'NA18558', 'NA18559', 'NA18560', 'NA18561', 'NA18562', 'NA18563', 'NA18564', 'NA18565', 'NA18566', 'NA18567', 'NA18570', 'NA18571', 'NA18572', 'NA18573', 'NA18574', 'NA18576', 'NA18577', 'NA18579', 'NA18582', 'NA18592', 'NA18593', 'NA18595', 'NA18596', 'NA18597', 'NA18599', 'NA18602', 'NA18603', 'NA18605', 'NA18606', 'NA18608', 'NA18609', 'NA18610', 'NA18611', 'NA18612', 'NA18613', 'NA18614', 'NA18615', 'NA18616', 'NA18617', 'NA18618', 'NA18619', 'NA18620', 'NA18621', 'NA18622', 'NA18623', 'NA18624', 'NA18626', 'NA18627', 'NA18628', 'NA18630', 'NA18631', 'NA18632', 'NA18633', 'NA18634', 'NA18635', 'NA18636', 'NA18637', 'NA18638', 'NA18639', 'NA18640', 'NA18641', 'NA18642', 'NA18643', 'NA18645', 'NA18647', 'NA18740', 'NA18745', 'NA18747', 'NA18748', 'NA18749', 'NA18757', 'NA18853', 'NA18856', 'NA18858', 'NA18861', 'NA18867', 'NA18868', 'NA18870', 'NA18871', 'NA18873', 'NA18874', 'NA18907', 'NA18908', 'NA18909', 'NA18910', 'NA18912', 'NA18916', 'NA18917', 'NA18923', 'NA18924', 'NA18933', 'NA18934', 'NA18939', 'NA18940', 'NA18941', 'NA18942', 'NA18943', 'NA18944', 'NA18945', 'NA18946', 'NA18947', 'NA18948', 'NA18949', 'NA18950', 'NA18951', 'NA18952', 'NA18953', 'NA18954', 'NA18956', 'NA18957', 'NA18959', 'NA18960', 'NA18961', 'NA18962', 'NA18963', 'NA18964', 'NA18965', 'NA18966', 'NA18968', 'NA18971', 'NA18973', 'NA18974', 'NA18975', 'NA18976', 'NA18977', 'NA18978', 'NA18980', 'NA18981', 'NA18982', 'NA18983', 'NA18984', 'NA18985', 'NA18986', 'NA18987', 'NA18988', 'NA18989', 'NA18990', 'NA18992', 'NA18994', 'NA18995', 'NA18998', 'NA18999', 'NA19000', 'NA19002', 'NA19003', 'NA19004', 'NA19005', 'NA19007', 'NA19009', 'NA19010', 'NA19012', 'NA19020', 'NA19028', 'NA19035', 'NA19036', 'NA19038', 'NA19041', 'NA19044', 'NA19046', 'NA19054', 'NA19055', 'NA19056', 'NA19057', 'NA19058', 'NA19059', 'NA19060', 'NA19062', 'NA19063', 'NA19064', 'NA19065', 'NA19066', 'NA19067', 'NA19068', 'NA19070', 'NA19072', 'NA19074', 'NA19075', 'NA19076', 'NA19077', 'NA19078', 'NA19079', 'NA19080', 'NA19081', 'NA19082', 'NA19083', 'NA19084', 'NA19085', 'NA19087', 'NA19088', 'NA19093', 'NA19095', 'NA19096', 'NA19098', 'NA19099', 'NA19102', 'NA19107', 'NA19108', 'NA19113', 'NA19114', 'NA19116', 'NA19117', 'NA19118', 'NA19119', 'NA19121', 'NA19129', 'NA19130', 'NA19131', 'NA19137', 'NA19138', 'NA19146', 'NA19147', 'NA19149', 'NA19150', 'NA19152', 'NA19160', 'NA19171', 'NA19172', 'NA19175', 'NA19185', 'NA19189', 'NA19190', 'NA19197', 'NA19198', 'NA19200', 'NA19204', 'NA19207', 'NA19209', 'NA19213', 'NA19222', 'NA19223', 'NA19225', 'NA19235', 'NA19236', 'NA19247', 'NA19248', 'NA19256', 'NA19257', 'NA19307', 'NA19308', 'NA19309', 'NA19310', 'NA19311', 'NA19312', 'NA19313', 'NA19315', 'NA19316', 'NA19317', 'NA19318', 'NA19319', 'NA19321', 'NA19324', 'NA19327', 'NA19328', 'NA19331', 'NA19332', 'NA19334', 'NA19338', 'NA19346', 'NA19347', 'NA19350', 'NA19351', 'NA19352', 'NA19355', 'NA19359', 'NA19360', 'NA19371', 'NA19372', 'NA19373', 'NA19374', 'NA19375', 'NA19376', 'NA19377', 'NA19379', 'NA19380', 'NA19381', 'NA19382', 'NA19383', 'NA19384', 'NA19385', 'NA19390', 'NA19391', 'NA19393', 'NA19394', 'NA19395', 'NA19396', 'NA19397', 'NA19398', 'NA19399', 'NA19401', 'NA19403', 'NA19404', 'NA19428', 'NA19429', 'NA19430', 'NA19431', 'NA19434', 'NA19435', 'NA19436', 'NA19437', 'NA19438', 'NA19439', 'NA19440', 'NA19443', 'NA19444', 'NA19445', 'NA19446', 'NA19448', 'NA19449', 'NA19451', 'NA19452', 'NA19453', 'NA19455', 'NA19456', 'NA19457', 'NA19461', 'NA19462', 'NA19463', 'NA19466', 'NA19467', 'NA19468', 'NA19469', 'NA19470', 'NA19471', 'NA19472', 'NA19473', 'NA19474', 'NA19625', 'NA19648', 'NA19651', 'NA19652', 'NA19654', 'NA19655', 'NA19657', 'NA19660', 'NA19661', 'NA19663', 'NA19664', 'NA19672', 'NA19675', 'NA19676', 'NA19678', 'NA19679', 'NA19681', 'NA19682', 'NA19684', 'NA19685', 'NA19700', 'NA19701', 'NA19703', 'NA19704', 'NA19707', 'NA19711', 'NA19712', 'NA19713', 'NA19716', 'NA19717', 'NA19719', 'NA19720', 'NA19722', 'NA19723', 'NA19725', 'NA19726', 'NA19728', 'NA19729', 'NA19731', 'NA19732', 'NA19734', 'NA19735', 'NA19737', 'NA19738', 'NA19740', 'NA19741', 'NA19746', 'NA19747', 'NA19749', 'NA19750', 'NA19752', 'NA19753', 'NA19755', 'NA19756', 'NA19758', 'NA19759', 'NA19761', 'NA19762', 'NA19764', 'NA19770', 'NA19771', 'NA19773', 'NA19774', 'NA19776', 'NA19777', 'NA19779', 'NA19780', 'NA19782', 'NA19783', 'NA19785', 'NA19786', 'NA19788', 'NA19789', 'NA19794', 'NA19795', 'NA19818', 'NA19819', 'NA19834', 'NA19835', 'NA19900', 'NA19901', 'NA19904', 'NA19908', 'NA19909', 'NA19914', 'NA19916', 'NA19917', 'NA19920', 'NA19921', 'NA19922', 'NA19923', 'NA19982', 'NA19984', 'NA19985', 'NA20126', 'NA20127', 'NA20276', 'NA20278', 'NA20281', 'NA20282', 'NA20287', 'NA20289', 'NA20291', 'NA20294', 'NA20296', 'NA20298', 'NA20299', 'NA20314', 'NA20317', 'NA20322', 'NA20332', 'NA20334', 'NA20336', 'NA20339', 'NA20340', 'NA20341', 'NA20342', 'NA20344', 'NA20346', 'NA20348', 'NA20351', 'NA20356', 'NA20357', 'NA20359', 'NA20363', 'NA20412', 'NA20414', 'NA20502', 'NA20503', 'NA20504', 'NA20505', 'NA20506', 'NA20507', 'NA20508', 'NA20509', 'NA20510', 'NA20512', 'NA20513', 'NA20515', 'NA20516', 'NA20517', 'NA20518', 'NA20519', 'NA20520', 'NA20521', 'NA20522', 'NA20524', 'NA20525', 'NA20527', 'NA20528', 'NA20529', 'NA20530', 'NA20531', 'NA20532', 'NA20533', 'NA20534', 'NA20535', 'NA20536', 'NA20537', 'NA20538', 'NA20539', 'NA20540', 'NA20541', 'NA20542', 'NA20543', 'NA20544', 'NA20581', 'NA20582', 'NA20585', 'NA20586', 'NA20588', 'NA20589', 'NA20752', 'NA20753', 'NA20754', 'NA20755', 'NA20756', 'NA20757', 'NA20758', 'NA20759', 'NA20760', 'NA20761', 'NA20765', 'NA20766', 'NA20768', 'NA20769', 'NA20770', 'NA20771', 'NA20772', 'NA20773', 'NA20774', 'NA20775', 'NA20778', 'NA20783', 'NA20785', 'NA20786', 'NA20787', 'NA20790', 'NA20792', 'NA20795', 'NA20796', 'NA20797', 'NA20798', 'NA20799', 'NA20800', 'NA20801', 'NA20802', 'NA20803', 'NA20804', 'NA20805', 'NA20806', 'NA20807', 'NA20808', 'NA20809', 'NA20810', 'NA20811', 'NA20812', 'NA20813', 'NA20814', 'NA20815', 'NA20816', 'NA20818', 'NA20819', 'NA20826', 'NA20828']\n"
     ]
    }
   ],
   "source": [
    "print(vcf_in.header.contigs) # direct acess -> object\n",
    "print(list((vcf_in.header.contigs)))\n",
    "print(list((vcf_in.header.filters)))\n",
    "print(list((vcf_in.header.info)))\n",
    "print(list((vcf_in.header.samples)))\n"
   ]
  },
  {
   "cell_type": "markdown",
   "metadata": {},
   "source": [
    "Alternatively, it is possible to iterate through all records in the header returning objects of type `VariantHeaderRecord::`"
   ]
  },
  {
   "cell_type": "code",
   "execution_count": 24,
   "metadata": {},
   "outputs": [
    {
     "name": "stdout",
     "output_type": "stream",
     "text": [
      "##fileformat=VCFv4.1\n",
      "\n",
      "GENERIC\n",
      "fileformat\n",
      "##FILTER=<ID=PASS,Description=\"All filters passed\">\n",
      "\n",
      "FILTER\n",
      "FILTER\n",
      "##INFO=<ID=LDAF,Number=1,Type=Float,Description=\"MLE Allele Frequency Accounting for LD\">\n",
      "\n",
      "INFO\n",
      "INFO\n",
      "##INFO=<ID=AVGPOST,Number=1,Type=Float,Description=\"Average posterior probability from MaCH/Thunder\">\n",
      "\n",
      "INFO\n",
      "INFO\n",
      "##INFO=<ID=RSQ,Number=1,Type=Float,Description=\"Genotype imputation quality from MaCH/Thunder\">\n",
      "\n",
      "INFO\n",
      "INFO\n",
      "##INFO=<ID=ERATE,Number=1,Type=Float,Description=\"Per-marker Mutation rate from MaCH/Thunder\">\n",
      "\n",
      "INFO\n",
      "INFO\n",
      "##INFO=<ID=THETA,Number=1,Type=Float,Description=\"Per-marker Transition rate from MaCH/Thunder\">\n",
      "\n",
      "INFO\n",
      "INFO\n",
      "##INFO=<ID=CIEND,Number=2,Type=Integer,Description=\"Confidence interval around END for imprecise variants\">\n",
      "\n",
      "INFO\n",
      "INFO\n",
      "##INFO=<ID=CIPOS,Number=2,Type=Integer,Description=\"Confidence interval around POS for imprecise variants\">\n",
      "\n",
      "INFO\n",
      "INFO\n",
      "##INFO=<ID=END,Number=1,Type=Integer,Description=\"End position of the variant described in this record\">\n",
      "\n",
      "INFO\n",
      "INFO\n",
      "##INFO=<ID=HOMLEN,Number=.,Type=Integer,Description=\"Length of base pair identical micro-homology at event breakpoints\">\n",
      "\n",
      "INFO\n",
      "INFO\n",
      "##INFO=<ID=HOMSEQ,Number=.,Type=String,Description=\"Sequence of base pair identical micro-homology at event breakpoints\">\n",
      "\n",
      "INFO\n",
      "INFO\n",
      "##INFO=<ID=SVLEN,Number=1,Type=Integer,Description=\"Difference in length between REF and ALT alleles\">\n",
      "\n",
      "INFO\n",
      "INFO\n",
      "##INFO=<ID=SVTYPE,Number=1,Type=String,Description=\"Type of structural variant\">\n",
      "\n",
      "INFO\n",
      "INFO\n",
      "##INFO=<ID=AC,Number=.,Type=Integer,Description=\"Alternate Allele Count\">\n",
      "\n",
      "INFO\n",
      "INFO\n",
      "##INFO=<ID=AN,Number=1,Type=Integer,Description=\"Total Allele Count\">\n",
      "\n",
      "INFO\n",
      "INFO\n",
      "##ALT=<ID=DEL,Description=\"Deletion\">\n",
      "\n",
      "STRUCTURED\n",
      "ALT\n",
      "##FORMAT=<ID=GT,Number=1,Type=String,Description=\"Genotype\">\n",
      "\n",
      "FORMAT\n",
      "FORMAT\n",
      "##FORMAT=<ID=DS,Number=1,Type=Float,Description=\"Genotype dosage from MaCH/Thunder\">\n",
      "\n",
      "FORMAT\n",
      "FORMAT\n",
      "##FORMAT=<ID=GL,Number=.,Type=Float,Description=\"Genotype Likelihoods\">\n",
      "\n",
      "FORMAT\n",
      "FORMAT\n",
      "##INFO=<ID=AA,Number=1,Type=String,Description=\"Ancestral Allele, ftp://ftp.1000genomes.ebi.ac.uk/vol1/ftp/pilot_data/technical/reference/ancestral_alignments/README\">\n",
      "\n",
      "INFO\n",
      "INFO\n",
      "##INFO=<ID=AF,Number=1,Type=Float,Description=\"Global Allele Frequency based on AC/AN\">\n",
      "\n",
      "INFO\n",
      "INFO\n",
      "##INFO=<ID=AMR_AF,Number=1,Type=Float,Description=\"Allele Frequency for samples from AMR based on AC/AN\">\n",
      "\n",
      "INFO\n",
      "INFO\n",
      "##INFO=<ID=ASN_AF,Number=1,Type=Float,Description=\"Allele Frequency for samples from ASN based on AC/AN\">\n",
      "\n",
      "INFO\n",
      "INFO\n",
      "##INFO=<ID=AFR_AF,Number=1,Type=Float,Description=\"Allele Frequency for samples from AFR based on AC/AN\">\n",
      "\n",
      "INFO\n",
      "INFO\n",
      "##INFO=<ID=EUR_AF,Number=1,Type=Float,Description=\"Allele Frequency for samples from EUR based on AC/AN\">\n",
      "\n",
      "INFO\n",
      "INFO\n",
      "##INFO=<ID=VT,Number=1,Type=String,Description=\"indicates what type of variant the line represents\">\n",
      "\n",
      "INFO\n",
      "INFO\n",
      "##INFO=<ID=SNPSOURCE,Number=.,Type=String,Description=\"indicates if a snp was called when analysing the low coverage or exome alignment data\">\n",
      "\n",
      "INFO\n",
      "INFO\n",
      "##reference=GRCh37\n",
      "\n",
      "GENERIC\n",
      "reference\n"
     ]
    }
   ],
   "source": [
    "for x in vcf_in.header.records:\n",
    "    print(x)\n",
    "    print(x.type)\n",
    "    print(x.key)"
   ]
  },
  {
   "cell_type": "markdown",
   "metadata": {},
   "source": [
    "`_pysam.VariantFile.fetch()` iterates over VariantRecord objects which provides access to simple variant attributes such as _contig, pos, ref_:"
   ]
  },
  {
   "cell_type": "code",
   "execution_count": 29,
   "metadata": {},
   "outputs": [
    {
     "name": "stdout",
     "output_type": "stream",
     "text": [
      "['__class__', '__delattr__', '__dir__', '__doc__', '__eq__', '__format__', '__ge__', '__getattribute__', '__gt__', '__hash__', '__init__', '__init_subclass__', '__le__', '__lt__', '__ne__', '__new__', '__reduce__', '__reduce_ex__', '__repr__', '__setattr__', '__setstate__', '__sizeof__', '__str__', '__subclasshook__', 'alleles', 'alts', 'chrom', 'contig', 'copy', 'filter', 'format', 'header', 'id', 'info', 'pos', 'qual', 'ref', 'rid', 'rlen', 'samples', 'start', 'stop', 'translate']\n"
     ]
    }
   ],
   "source": [
    "for rec in vcf_in.fetch():\n",
    "    print(dir(rec))\n",
    "    break"
   ]
  },
  {
   "cell_type": "code",
   "execution_count": 34,
   "metadata": {},
   "outputs": [
    {
     "data": {
      "text/plain": [
       "494328"
      ]
     },
     "execution_count": 34,
     "metadata": {},
     "output_type": "execute_result"
    }
   ],
   "source": [
    "variants_id = []\n",
    "for rec in vcf_in.fetch():\n",
    "    variants_id.append(rec.id)\n",
    "\n",
    "len(variants_id)"
   ]
  },
  {
   "cell_type": "code",
   "execution_count": 37,
   "metadata": {},
   "outputs": [
    {
     "data": {
      "text/plain": [
       "1092"
      ]
     },
     "execution_count": 37,
     "metadata": {},
     "output_type": "execute_result"
    }
   ],
   "source": [
    "len(list(vcf_in.header.samples))"
   ]
  },
  {
   "cell_type": "code",
   "execution_count": null,
   "metadata": {},
   "outputs": [],
   "source": []
  }
 ],
 "metadata": {
  "interpreter": {
   "hash": "ee42ca6584edca6b83016c3dcc3a993fd29e771f2046ed19a119740f82f334c7"
  },
  "kernelspec": {
   "display_name": "Python 3.9.5 64-bit ('base': conda)",
   "language": "python",
   "name": "python3"
  },
  "language_info": {
   "codemirror_mode": {
    "name": "ipython",
    "version": 3
   },
   "file_extension": ".py",
   "mimetype": "text/x-python",
   "name": "python",
   "nbconvert_exporter": "python",
   "pygments_lexer": "ipython3",
   "version": "3.9.5"
  },
  "orig_nbformat": 4
 },
 "nbformat": 4,
 "nbformat_minor": 2
}
